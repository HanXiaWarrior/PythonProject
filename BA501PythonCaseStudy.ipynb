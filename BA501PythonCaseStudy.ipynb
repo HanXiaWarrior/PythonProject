{
 "cells": [
  {
   "cell_type": "code",
   "execution_count": null,
   "metadata": {
    "collapsed": true
   },
   "outputs": [],
   "source": [
    "#Question:\n",
    "YouTube launched a new feature. But user engagement dropped by 5%. If you were the CEO, what would you do?\n",
    "\n",
    "#Answer:\n",
    "If I were CEO of this company, I would get all materials and data information about this product --YouTube and the new feature. Then after I think about what’s going on with our product, I would call all related managers to hold a group meeting, in order to find useful solutions. \n",
    "Now, I’m gonna tell you what is my thought in terms of this problem. When I get this result, I have some keywords to highlight, including YouTube (product), a new feature (cause), user engagement (variable), 5% decrease (effect).\n",
    "\n",
    "First, I want to clarify these 4 keywords. YouTube is our online video player platform, so I need to know how many users, how many visits, how many clicks, how many videos played, how long advertisement is, whether users watch ad, etc. A new feature is a new function added to YouTube website, so I need to ask what’s this feature, what does it do, what does it look like, how long it is launched, what is its targeted customers, what price of it is, what is user review of it, etc. User engagement is one significant usage index for our data analysis, so I hope to know what is user engagement definition, whether it is ratio or a number, how is it calculated, whether it is used in the past, how does it change, etc. Because I know user engagement dropped by 5%, I also need to ask if 5% is significant, how about total amount of user, will they come back later, what reasons may be with regard to the drop, etc. Therefore, I have to know details about all related issues.\n",
    "\n",
    "Second, for example, I have made everything clear and the truth is that YouTube add a new feature that is when user click the advertisement video, they can go directly to that store website and purchase those products, user engagement -- the amount of users who watch advertisement dropped 5% in one month compared to the same time last year. Now, I need to design experiment as to analyze this phenomenon. Here, I’m gonna use A/B testing to figure out if the new feature has significant influence on the user engagement drop in this month. My scope is very clear now, and I will select relevant active users who are willing to watch ad video before we launch the new feature as experiment samples. We will pick up small randomized samples from these targeted experiment samples we select above. And it still takes one month of this experiment to run. We give usage of YouTube with a new feature to sample A, and usage of YouTube without a new feature to sample B. And click rate of ad video on YouTube (CAR) is what we care about in the experiment result. Now, we have a null hypothesis, H0: CAR (A) = CAR (B). We should set Type I error as 5%, and conduct two-sample t-tests. Then we could get p-value of this testing. \n",
    "\n",
    "Third, after doing this experiment, we can know if the result is significant and if we should reject the null hypothesis or not. Consequently, my recommendation will be based upon the A/B testing result. If we reject it, we are needed to make changes to the new feature and consider to modify feature design; however, if we do not reject it, there may be other reasons leading to user engagement drop, so I must have manager-level meetings to talk about other potential causes which make a huge impact on our customers’ clicks on ad videos. \n"
   ]
  }
 ],
 "metadata": {
  "kernelspec": {
   "display_name": "Python 3",
   "language": "python",
   "name": "python3"
  },
  "language_info": {
   "codemirror_mode": {
    "name": "ipython",
    "version": 3
   },
   "file_extension": ".py",
   "mimetype": "text/x-python",
   "name": "python",
   "nbconvert_exporter": "python",
   "pygments_lexer": "ipython3",
   "version": "3.6.1"
  }
 },
 "nbformat": 4,
 "nbformat_minor": 2
}
